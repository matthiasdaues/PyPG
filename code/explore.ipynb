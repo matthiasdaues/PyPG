{
 "cells": [
  {
   "cell_type": "code",
   "execution_count": null,
   "metadata": {},
   "outputs": [],
   "source": [
    "import yaml\n",
    "config = '../inputs/config.yml'\n",
    "\n",
    "data = yaml.safe_load(open(config))\n",
    "\n",
    "print(config)\n",
    "print(data)"
   ]
  },
  {
   "cell_type": "code",
   "execution_count": null,
   "metadata": {},
   "outputs": [],
   "source": [
    "import core\n",
    "\n",
    "config = '../inputs/config.yml'\n",
    "connection = '../inputs/connection.yml'\n",
    "\n",
    "schema = 'test'\n",
    "\n",
    "configuration = core.read_configuration(config)\n",
    "print(configuration)\n",
    "core.create_local_folders_and_files(config)\n",
    "core.create_database(config, connection)\n",
    "core.create_extensions(config, connection)\n",
    "core.create_users(config, connection)\n",
    "core.create_schemas(config, connection)  # maybe use https://github.com/RazerM/pg_grant to persist the privilege granting?\n",
    "core.create_policies(config, connection) # maybe use https://github.com/RazerM/pg_grant to persist the privilege granting?"
   ]
  },
  {
   "cell_type": "code",
   "execution_count": null,
   "metadata": {},
   "outputs": [],
   "source": [
    "# Revert all above steps.\n",
    "\n",
    "import yaml\n",
    "import os\n",
    "import shutil\n",
    "\n",
    "from sqlalchemy import create_engine                # noqa: F401\n",
    "from sqlalchemy import text, quoted_name            # noqa: F401\n",
    "from sqlalchemy.exc import SQLAlchemyError          # noqa: F401\n",
    "import sqlalchemy_utils as sal_utils                # noqa: F401\n",
    "\n",
    "\n",
    "import utils.db_connect as db_connect\n",
    "from core.read_configuration import read_configuration\n",
    "from utils.random_password_generator import generate_password\n",
    "\n",
    "config = '../inputs/config.yml'\n",
    "connection = '../inputs/connection.yml'\n",
    "\n",
    "\n",
    "# read the configuration\n",
    "configuration = read_configuration(config)\n",
    "\n",
    "# define db_name and define directory path as absolute path\n",
    "db_name = configuration['db_name']\n",
    "db_path = configuration['paths']['db_path']\n",
    "\n",
    "# PostgreSQL connection information\n",
    "conn_string = db_connect.get_db_connection(config, connection)\n",
    "\n",
    "# Create the SQLAlchemy engine\n",
    "engine = create_engine(conn_string)\n",
    "\n",
    "print(configuration['users'])\n",
    "\n",
    "for user in configuration['users']:\n",
    "    print(user)\n",
    "    drop_user = text(f\"drop user {quoted_name(user, False)};\")\n",
    "    \n",
    "    # Drop users\n",
    "    with engine.connect() as conn:\n",
    "        transaction = conn.begin()\n",
    "        conn.execute(drop_user)\n",
    "        transaction.commit()\n",
    "    conn.close()\n",
    "\n",
    "# PostgreSQL connection information\n",
    "sal_utils.drop_database(engine.url)\n",
    "\n",
    "# remove folder structure\n",
    "shutil.rmtree(db_path)\n"
   ]
  }
 ],
 "metadata": {
  "kernelspec": {
   "display_name": ".venv",
   "language": "python",
   "name": "python3"
  },
  "language_info": {
   "codemirror_mode": {
    "name": "ipython",
    "version": 3
   },
   "file_extension": ".py",
   "mimetype": "text/x-python",
   "name": "python",
   "nbconvert_exporter": "python",
   "pygments_lexer": "ipython3",
   "version": "3.10.6"
  },
  "orig_nbformat": 4
 },
 "nbformat": 4,
 "nbformat_minor": 2
}
